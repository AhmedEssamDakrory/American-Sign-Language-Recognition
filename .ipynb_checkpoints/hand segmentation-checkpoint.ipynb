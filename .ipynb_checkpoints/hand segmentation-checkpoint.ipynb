{
 "cells": [
  {
   "cell_type": "code",
   "execution_count": 1,
   "metadata": {},
   "outputs": [],
   "source": [
    "import cv2\n",
    "import numpy as np\n",
    "import skimage.io as io\n",
    "import matplotlib.pyplot as plt\n",
    "from skimage.color import rgb2gray , rgb2hsv\n",
    "from skimage.morphology import binary_erosion, binary_dilation, binary_closing,skeletonize, thin\n",
    "from skimage.measure import find_contours\n",
    "from skimage.draw import rectangle\n",
    "from skimage.filters import threshold_otsu, threshold_mean, threshold_li, threshold_isodata, threshold_niblack\n",
    "from skimage.morphology import binary_erosion, binary_dilation, binary_closing,skeletonize, thin\n"
   ]
  },
  {
   "cell_type": "code",
   "execution_count": 2,
   "metadata": {},
   "outputs": [],
   "source": [
    "def Gamma_Correction(img , c , gamma):\n",
    "    img2 = np.copy(img)\n",
    "    img2 = c*np.power(img , gamma)\n",
    "    return img2\n",
    "\n",
    "def erosion(img , n,m):\n",
    "    img2 = np.copy(img)\n",
    "    for i in range(int(n/2) , img.shape[1]-1-int(n/2) ):\n",
    "        for j in range(int(m/2) , img.shape[0]-1-int(m/2) ):\n",
    "            img2[j,i] = np.sum(img[j-int((m)/2) : j+int((m)/2) + n%2 , i-int((n)/2) : i+int((n)/2) + n%2 ])==n*n        \n",
    "    return img2\n",
    "\n",
    "def dilation(img , n,m):\n",
    "    img2 = np.copy(img)\n",
    "    for i in range(int(n/2) , img.shape[1]-1-int(n/2) ):\n",
    "        for j in range(int(m/2) , img.shape[0]-1-int(m/2) ):\n",
    "            img2[j,i] = np.sum(img[j-int((m)/2) : j+int((m)/2) + n%2 , i-int((n)/2) : i+int((n)/2) + n%2 ])>=1        \n",
    "    return img2"
   ]
  },
  {
   "cell_type": "code",
   "execution_count": 3,
   "metadata": {},
   "outputs": [
    {
     "data": {
      "text/plain": [
       "''"
      ]
     },
     "execution_count": 3,
     "metadata": {},
     "output_type": "execute_result"
    }
   ],
   "source": [
    "cap = cv2.VideoCapture(0)\n",
    "\n",
    "# Check if the webcam is opened correctly\n",
    "if not cap.isOpened():\n",
    "    raise IOError(\"Cannot open webcam\")\n",
    "\n",
    "while True:\n",
    "    ret, rgb_frame = cap.read()\n",
    "                   \n",
    "    rgb_frame = cv2.resize(rgb_frame, None, fx=1, fy=1, interpolation=cv2.INTER_AREA)\n",
    "    # converting the rgb space to hsv space color\n",
    "    hsv_frame = cv2.cvtColor(rgb_frame, cv2.COLOR_BGR2HSV)\n",
    "    # converting the rgb space to YCbCr space color\n",
    "    ycbcr_frame = cv2.cvtColor(rgb_frame, cv2.COLOR_BGR2YCR_CB)\n",
    "    \n",
    "    # converintg the rgb space to rgba spave \n",
    "    rgba_frame = cv2.cvtColor(rgb_frame, cv2.COLOR_BGR2BGRA)\n",
    "    \n",
    "    # Extracting the blue, red, green and alpha channels\n",
    "    \n",
    "    B = rgba_frame[:,:,0]\n",
    "    G = rgba_frame[:,:,1]\n",
    "    R = rgba_frame[:,:,2]\n",
    "    A = rgba_frame[:,:,3]\n",
    "    \n",
    "    # Extracting the Hue, Saturation and vue channels\n",
    "    \n",
    "    H = hsv_frame[:,:,0]\n",
    "    S = hsv_frame[:,:,1]\n",
    "    V = hsv_frame[:,:,2]\n",
    "    \n",
    "    # Extracting the Y, Cr and Cb channels\n",
    "    \n",
    "    Y = ycbcr_frame[:,:,0]\n",
    "    Cr = ycbcr_frame[:,:,1]\n",
    "    Cb = ycbcr_frame[:,:,2]\n",
    "    \n",
    "    # Extracting masks based on a combination of RGBA, HSV and YCrCb models for skin detection\n",
    "    \n",
    "    mask_rgb = (R>95)&(G>40)&(B>20)&(R>G)&(R>B)&(abs(R-G)>15)&(A>15)\n",
    "    mask_Ycbcr = (Cr > 135)&(Cb>85)&(Y>80)&(Cr <= (1.5862*Cb)+20)&(Cr>=(0.3448*Cb)+76.2069)&(Cr >= (-4.5652*Cb)+234.5652)&(\n",
    "                  Cr <= (-1.15*Cb)+301.75)&(Cr <= (-2.2857*Cb)+432.85)\n",
    "    mask_hsv = ((0.0 <= H) & (H <= 50.0))&((0.23 <= S) &(S <= 0.68))\n",
    "    \n",
    "    mask1 = mask_rgb & mask_Ycbcr\n",
    "    mask2 = mask_rgb & mask_hsv\n",
    "    \n",
    "    mask = mask1 | mask2 # the final mask to extract the binary image\n",
    "\n",
    "    binary_frame = np.zeros((rgb_frame.shape[0] , rgb_frame.shape[1]))\n",
    "    binary_frame[mask] = 1\n",
    "    \n",
    "    filtered_frame = np.copy(binary_frame)\n",
    "    filtered_frame = filtered_frame.astype(np.uint8(255))\n",
    "    filtered_frame =  cv2.medianBlur(filtered_frame, 11)\n",
    "    \n",
    "    final_frame = np.zeros((rgb_frame.shape[0] , rgb_frame.shape[1]))\n",
    "    final_frame[filtered_frame >= 1] = 1\n",
    "    \n",
    "    cv2.imshow('Input', rgb_frame)\n",
    "    cv2.imshow('Output1', binary_frame)\n",
    "    cv2.imshow('Output2', final_frame)\n",
    "   \n",
    "    \n",
    "    c = cv2.waitKey(1)\n",
    "    if c == 27:\n",
    "        break\n",
    "\n",
    "cap.release()\n",
    "cv2.destroyAllWindows()\n",
    "\n",
    ","
   ]
  },
  {
   "cell_type": "code",
   "execution_count": null,
   "metadata": {},
   "outputs": [],
   "source": []
  },
  {
   "cell_type": "code",
   "execution_count": null,
   "metadata": {},
   "outputs": [],
   "source": []
  }
 ],
 "metadata": {
  "kernelspec": {
   "display_name": "Python 3",
   "language": "python",
   "name": "python3"
  },
  "language_info": {
   "codemirror_mode": {
    "name": "ipython",
    "version": 3
   },
   "file_extension": ".py",
   "mimetype": "text/x-python",
   "name": "python",
   "nbconvert_exporter": "python",
   "pygments_lexer": "ipython3",
   "version": "3.7.4"
  }
 },
 "nbformat": 4,
 "nbformat_minor": 2
}
